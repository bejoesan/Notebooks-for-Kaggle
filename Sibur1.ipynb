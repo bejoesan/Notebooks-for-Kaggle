{
 "cells": [
  {
   "cell_type": "code",
   "execution_count": 537,
   "metadata": {
    "ExecuteTime": {
     "end_time": "2019-10-14T03:11:53.916714Z",
     "start_time": "2019-10-14T03:11:53.903793Z"
    }
   },
   "outputs": [
    {
     "name": "stdout",
     "output_type": "stream",
     "text": [
      "Populating the interactive namespace from numpy and matplotlib\n"
     ]
    }
   ],
   "source": [
    "%pylab inline\n",
    "plt.style.use(\"bmh\")"
   ]
  },
  {
   "cell_type": "code",
   "execution_count": 538,
   "metadata": {
    "ExecuteTime": {
     "end_time": "2019-10-14T03:11:53.933673Z",
     "start_time": "2019-10-14T03:11:53.924362Z"
    }
   },
   "outputs": [],
   "source": [
    "plt.rcParams[\"figure.figsize\"] = (6,6)"
   ]
  },
  {
   "cell_type": "code",
   "execution_count": 539,
   "metadata": {
    "ExecuteTime": {
     "end_time": "2019-10-14T03:11:53.949742Z",
     "start_time": "2019-10-14T03:11:53.942882Z"
    }
   },
   "outputs": [],
   "source": [
    "import numpy as np\n",
    "import pandas as pd\n",
    "import seaborn as sns"
   ]
  },
  {
   "cell_type": "code",
   "execution_count": 540,
   "metadata": {
    "ExecuteTime": {
     "end_time": "2019-10-14T03:11:53.963624Z",
     "start_time": "2019-10-14T03:11:53.957879Z"
    }
   },
   "outputs": [],
   "source": [
    "from tqdm import tqdm\n",
    "import pathlib"
   ]
  },
  {
   "cell_type": "code",
   "execution_count": 541,
   "metadata": {
    "ExecuteTime": {
     "end_time": "2019-10-14T03:11:53.980964Z",
     "start_time": "2019-10-14T03:11:53.969447Z"
    }
   },
   "outputs": [],
   "source": [
    "from sklearn.linear_model import ElasticNet, LinearRegression\n",
    "from sklearn.ensemble import RandomForestRegressor, BaggingRegressor\n",
    "from lightgbm import LGBMRegressor\n",
    "from sklearn.preprocessing import StandardScaler, MinMaxScaler\n",
    "from sklearn.model_selection import ParameterGrid\n",
    "from sklearn.metrics import r2_score as r2\n",
    "\n",
    "from statsmodels.tsa.stattools import adfuller as adf"
   ]
  },
  {
   "cell_type": "code",
   "execution_count": 542,
   "metadata": {
    "ExecuteTime": {
     "end_time": "2019-10-14T03:11:53.995165Z",
     "start_time": "2019-10-14T03:11:53.987630Z"
    }
   },
   "outputs": [],
   "source": [
    "DATA_DIR = pathlib.Path(\"./\")"
   ]
  },
  {
   "cell_type": "code",
   "execution_count": 543,
   "metadata": {
    "ExecuteTime": {
     "end_time": "2019-10-14T03:11:54.009061Z",
     "start_time": "2019-10-14T03:11:54.001748Z"
    }
   },
   "outputs": [],
   "source": [
    "RS = 289475"
   ]
  },
  {
   "cell_type": "markdown",
   "metadata": {
    "ExecuteTime": {
     "end_time": "2019-10-14T02:25:47.253507Z",
     "start_time": "2019-10-14T02:25:47.243373Z"
    }
   },
   "source": [
    "### Версии:\n",
    "\n",
    "- `numpy`: 1.16.3\n",
    "- `pandas`: 0.24.2\n",
    "- `sklearn`: 0.21.2"
   ]
  },
  {
   "cell_type": "markdown",
   "metadata": {},
   "source": [
    "# Загрузка данных"
   ]
  },
  {
   "cell_type": "code",
   "execution_count": 544,
   "metadata": {
    "ExecuteTime": {
     "end_time": "2019-10-14T03:11:54.107142Z",
     "start_time": "2019-10-14T03:11:54.018430Z"
    }
   },
   "outputs": [],
   "source": [
    "train_target = pd.read_csv(DATA_DIR.joinpath(\"pet_target_train.csv\"), index_col=\"date\", parse_dates=[\"date\"])\n",
    "test_target = pd.read_csv(DATA_DIR.joinpath(\"pet_test_timestamps.csv\"), index_col=\"date\", parse_dates=[\"date\"])\n",
    "daily = pd.read_csv(DATA_DIR.joinpath(\"pet_daily.csv\"), index_col=\"date\", parse_dates=[\"date\"])\n",
    "weekly = pd.read_csv(DATA_DIR.joinpath(\"pet_weekly.csv\"), index_col=\"date\", parse_dates=[\"date\"])"
   ]
  },
  {
   "cell_type": "code",
   "execution_count": 545,
   "metadata": {
    "ExecuteTime": {
     "end_time": "2019-10-14T03:11:54.132545Z",
     "start_time": "2019-10-14T03:11:54.113245Z"
    }
   },
   "outputs": [
    {
     "data": {
      "text/html": [
       "<div>\n",
       "<style scoped>\n",
       "    .dataframe tbody tr th:only-of-type {\n",
       "        vertical-align: middle;\n",
       "    }\n",
       "\n",
       "    .dataframe tbody tr th {\n",
       "        vertical-align: top;\n",
       "    }\n",
       "\n",
       "    .dataframe thead th {\n",
       "        text-align: right;\n",
       "    }\n",
       "</style>\n",
       "<table border=\"1\" class=\"dataframe\">\n",
       "  <thead>\n",
       "    <tr style=\"text-align: right;\">\n",
       "      <th></th>\n",
       "      <th>pet</th>\n",
       "    </tr>\n",
       "    <tr>\n",
       "      <th>date</th>\n",
       "      <th></th>\n",
       "    </tr>\n",
       "  </thead>\n",
       "  <tbody>\n",
       "    <tr>\n",
       "      <th>2004-06-01</th>\n",
       "      <td>961.25</td>\n",
       "    </tr>\n",
       "    <tr>\n",
       "      <th>2004-07-01</th>\n",
       "      <td>962.00</td>\n",
       "    </tr>\n",
       "    <tr>\n",
       "      <th>2004-08-01</th>\n",
       "      <td>1053.75</td>\n",
       "    </tr>\n",
       "    <tr>\n",
       "      <th>2004-09-01</th>\n",
       "      <td>1180.00</td>\n",
       "    </tr>\n",
       "    <tr>\n",
       "      <th>2004-10-01</th>\n",
       "      <td>1240.00</td>\n",
       "    </tr>\n",
       "  </tbody>\n",
       "</table>\n",
       "</div>"
      ],
      "text/plain": [
       "                pet\n",
       "date               \n",
       "2004-06-01   961.25\n",
       "2004-07-01   962.00\n",
       "2004-08-01  1053.75\n",
       "2004-09-01  1180.00\n",
       "2004-10-01  1240.00"
      ]
     },
     "execution_count": 545,
     "metadata": {},
     "output_type": "execute_result"
    }
   ],
   "source": [
    "train_target.head()"
   ]
  },
  {
   "cell_type": "code",
   "execution_count": 546,
   "metadata": {
    "ExecuteTime": {
     "end_time": "2019-10-14T03:11:54.177233Z",
     "start_time": "2019-10-14T03:11:54.136385Z"
    }
   },
   "outputs": [
    {
     "data": {
      "text/html": [
       "<div>\n",
       "<style scoped>\n",
       "    .dataframe tbody tr th:only-of-type {\n",
       "        vertical-align: middle;\n",
       "    }\n",
       "\n",
       "    .dataframe tbody tr th {\n",
       "        vertical-align: top;\n",
       "    }\n",
       "\n",
       "    .dataframe thead th {\n",
       "        text-align: right;\n",
       "    }\n",
       "</style>\n",
       "<table border=\"1\" class=\"dataframe\">\n",
       "  <thead>\n",
       "    <tr style=\"text-align: right;\">\n",
       "      <th></th>\n",
       "      <th>brent_close</th>\n",
       "      <th>brent_open</th>\n",
       "      <th>brent_max</th>\n",
       "      <th>brent_min</th>\n",
       "      <th>USDCNY_close</th>\n",
       "      <th>USDCNY_open</th>\n",
       "      <th>USDCNY_max</th>\n",
       "      <th>USDCNY_min</th>\n",
       "    </tr>\n",
       "    <tr>\n",
       "      <th>date</th>\n",
       "      <th></th>\n",
       "      <th></th>\n",
       "      <th></th>\n",
       "      <th></th>\n",
       "      <th></th>\n",
       "      <th></th>\n",
       "      <th></th>\n",
       "      <th></th>\n",
       "    </tr>\n",
       "  </thead>\n",
       "  <tbody>\n",
       "    <tr>\n",
       "      <th>2002-07-01</th>\n",
       "      <td>25.64</td>\n",
       "      <td>25.50</td>\n",
       "      <td>25.72</td>\n",
       "      <td>25.39</td>\n",
       "      <td>8.2770</td>\n",
       "      <td>8.2770</td>\n",
       "      <td>8.2770</td>\n",
       "      <td>8.2770</td>\n",
       "    </tr>\n",
       "    <tr>\n",
       "      <th>2002-07-02</th>\n",
       "      <td>25.75</td>\n",
       "      <td>25.61</td>\n",
       "      <td>25.97</td>\n",
       "      <td>25.60</td>\n",
       "      <td>8.2769</td>\n",
       "      <td>8.2769</td>\n",
       "      <td>8.2769</td>\n",
       "      <td>8.2769</td>\n",
       "    </tr>\n",
       "    <tr>\n",
       "      <th>2002-07-03</th>\n",
       "      <td>25.84</td>\n",
       "      <td>25.73</td>\n",
       "      <td>25.96</td>\n",
       "      <td>25.52</td>\n",
       "      <td>8.2768</td>\n",
       "      <td>8.2768</td>\n",
       "      <td>8.2768</td>\n",
       "      <td>8.2768</td>\n",
       "    </tr>\n",
       "    <tr>\n",
       "      <th>2002-07-04</th>\n",
       "      <td>25.55</td>\n",
       "      <td>25.88</td>\n",
       "      <td>25.94</td>\n",
       "      <td>25.50</td>\n",
       "      <td>8.2767</td>\n",
       "      <td>8.2767</td>\n",
       "      <td>8.2767</td>\n",
       "      <td>8.2767</td>\n",
       "    </tr>\n",
       "    <tr>\n",
       "      <th>2002-07-05</th>\n",
       "      <td>25.73</td>\n",
       "      <td>25.65</td>\n",
       "      <td>25.75</td>\n",
       "      <td>25.42</td>\n",
       "      <td>8.2766</td>\n",
       "      <td>8.2766</td>\n",
       "      <td>8.2766</td>\n",
       "      <td>8.2766</td>\n",
       "    </tr>\n",
       "  </tbody>\n",
       "</table>\n",
       "</div>"
      ],
      "text/plain": [
       "            brent_close  brent_open  brent_max  brent_min  USDCNY_close  \\\n",
       "date                                                                      \n",
       "2002-07-01        25.64       25.50      25.72      25.39        8.2770   \n",
       "2002-07-02        25.75       25.61      25.97      25.60        8.2769   \n",
       "2002-07-03        25.84       25.73      25.96      25.52        8.2768   \n",
       "2002-07-04        25.55       25.88      25.94      25.50        8.2767   \n",
       "2002-07-05        25.73       25.65      25.75      25.42        8.2766   \n",
       "\n",
       "            USDCNY_open  USDCNY_max  USDCNY_min  \n",
       "date                                             \n",
       "2002-07-01       8.2770      8.2770      8.2770  \n",
       "2002-07-02       8.2769      8.2769      8.2769  \n",
       "2002-07-03       8.2768      8.2768      8.2768  \n",
       "2002-07-04       8.2767      8.2767      8.2767  \n",
       "2002-07-05       8.2766      8.2766      8.2766  "
      ]
     },
     "execution_count": 546,
     "metadata": {},
     "output_type": "execute_result"
    }
   ],
   "source": [
    "daily.head()"
   ]
  },
  {
   "cell_type": "code",
   "execution_count": 547,
   "metadata": {
    "ExecuteTime": {
     "end_time": "2019-10-14T03:11:54.208232Z",
     "start_time": "2019-10-14T03:11:54.183494Z"
    }
   },
   "outputs": [
    {
     "name": "stdout",
     "output_type": "stream",
     "text": [
      "<class 'pandas.core.frame.DataFrame'>\n",
      "DatetimeIndex: 4221 entries, 2002-07-01 to 2019-06-28\n",
      "Data columns (total 8 columns):\n",
      " #   Column        Non-Null Count  Dtype  \n",
      "---  ------        --------------  -----  \n",
      " 0   brent_close   4221 non-null   float64\n",
      " 1   brent_open    4221 non-null   float64\n",
      " 2   brent_max     4221 non-null   float64\n",
      " 3   brent_min     4221 non-null   float64\n",
      " 4   USDCNY_close  4221 non-null   float64\n",
      " 5   USDCNY_open   4221 non-null   float64\n",
      " 6   USDCNY_max    4221 non-null   float64\n",
      " 7   USDCNY_min    4221 non-null   float64\n",
      "dtypes: float64(8)\n",
      "memory usage: 296.8 KB\n"
     ]
    }
   ],
   "source": [
    "daily.info()"
   ]
  },
  {
   "cell_type": "code",
   "execution_count": 548,
   "metadata": {
    "ExecuteTime": {
     "end_time": "2019-10-14T03:11:54.245613Z",
     "start_time": "2019-10-14T03:11:54.215323Z"
    }
   },
   "outputs": [
    {
     "data": {
      "text/html": [
       "<div>\n",
       "<style scoped>\n",
       "    .dataframe tbody tr th:only-of-type {\n",
       "        vertical-align: middle;\n",
       "    }\n",
       "\n",
       "    .dataframe tbody tr th {\n",
       "        vertical-align: top;\n",
       "    }\n",
       "\n",
       "    .dataframe thead th {\n",
       "        text-align: right;\n",
       "    }\n",
       "</style>\n",
       "<table border=\"1\" class=\"dataframe\">\n",
       "  <thead>\n",
       "    <tr style=\"text-align: right;\">\n",
       "      <th></th>\n",
       "      <th>paraxylene_CHN_USD</th>\n",
       "      <th>paraxylene_RT_USD</th>\n",
       "      <th>paraxylene_SEA_USD</th>\n",
       "      <th>pta_NEA_USD</th>\n",
       "      <th>ethylene_glycol_EU_EUR</th>\n",
       "      <th>ethylene_glycol_CHN_USD</th>\n",
       "    </tr>\n",
       "    <tr>\n",
       "      <th>date</th>\n",
       "      <th></th>\n",
       "      <th></th>\n",
       "      <th></th>\n",
       "      <th></th>\n",
       "      <th></th>\n",
       "      <th></th>\n",
       "    </tr>\n",
       "  </thead>\n",
       "  <tbody>\n",
       "    <tr>\n",
       "      <th>2004-04-30</th>\n",
       "      <td>NaN</td>\n",
       "      <td>669.0</td>\n",
       "      <td>735.0</td>\n",
       "      <td>NaN</td>\n",
       "      <td>622.5</td>\n",
       "      <td>860.0</td>\n",
       "    </tr>\n",
       "    <tr>\n",
       "      <th>2004-05-07</th>\n",
       "      <td>NaN</td>\n",
       "      <td>680.0</td>\n",
       "      <td>730.0</td>\n",
       "      <td>NaN</td>\n",
       "      <td>650.0</td>\n",
       "      <td>860.0</td>\n",
       "    </tr>\n",
       "    <tr>\n",
       "      <th>2004-05-14</th>\n",
       "      <td>NaN</td>\n",
       "      <td>664.0</td>\n",
       "      <td>720.0</td>\n",
       "      <td>NaN</td>\n",
       "      <td>650.0</td>\n",
       "      <td>857.5</td>\n",
       "    </tr>\n",
       "    <tr>\n",
       "      <th>2004-05-21</th>\n",
       "      <td>NaN</td>\n",
       "      <td>657.0</td>\n",
       "      <td>722.5</td>\n",
       "      <td>NaN</td>\n",
       "      <td>650.0</td>\n",
       "      <td>852.5</td>\n",
       "    </tr>\n",
       "    <tr>\n",
       "      <th>2004-05-28</th>\n",
       "      <td>NaN</td>\n",
       "      <td>667.5</td>\n",
       "      <td>735.0</td>\n",
       "      <td>NaN</td>\n",
       "      <td>650.0</td>\n",
       "      <td>857.5</td>\n",
       "    </tr>\n",
       "  </tbody>\n",
       "</table>\n",
       "</div>"
      ],
      "text/plain": [
       "            paraxylene_CHN_USD  paraxylene_RT_USD  paraxylene_SEA_USD  \\\n",
       "date                                                                    \n",
       "2004-04-30                 NaN              669.0               735.0   \n",
       "2004-05-07                 NaN              680.0               730.0   \n",
       "2004-05-14                 NaN              664.0               720.0   \n",
       "2004-05-21                 NaN              657.0               722.5   \n",
       "2004-05-28                 NaN              667.5               735.0   \n",
       "\n",
       "            pta_NEA_USD  ethylene_glycol_EU_EUR  ethylene_glycol_CHN_USD  \n",
       "date                                                                      \n",
       "2004-04-30          NaN                   622.5                    860.0  \n",
       "2004-05-07          NaN                   650.0                    860.0  \n",
       "2004-05-14          NaN                   650.0                    857.5  \n",
       "2004-05-21          NaN                   650.0                    852.5  \n",
       "2004-05-28          NaN                   650.0                    857.5  "
      ]
     },
     "execution_count": 548,
     "metadata": {},
     "output_type": "execute_result"
    }
   ],
   "source": [
    "weekly.head()"
   ]
  },
  {
   "cell_type": "code",
   "execution_count": 549,
   "metadata": {
    "ExecuteTime": {
     "end_time": "2019-10-14T03:11:54.270677Z",
     "start_time": "2019-10-14T03:11:54.252178Z"
    }
   },
   "outputs": [
    {
     "name": "stdout",
     "output_type": "stream",
     "text": [
      "<class 'pandas.core.frame.DataFrame'>\n",
      "DatetimeIndex: 799 entries, 2004-04-30 to 2019-08-16\n",
      "Data columns (total 6 columns):\n",
      " #   Column                   Non-Null Count  Dtype  \n",
      "---  ------                   --------------  -----  \n",
      " 0   paraxylene_CHN_USD       744 non-null    float64\n",
      " 1   paraxylene_RT_USD        782 non-null    float64\n",
      " 2   paraxylene_SEA_USD       778 non-null    float64\n",
      " 3   pta_NEA_USD              292 non-null    float64\n",
      " 4   ethylene_glycol_EU_EUR   782 non-null    float64\n",
      " 5   ethylene_glycol_CHN_USD  767 non-null    float64\n",
      "dtypes: float64(6)\n",
      "memory usage: 43.7 KB\n"
     ]
    }
   ],
   "source": [
    "weekly.info()"
   ]
  },
  {
   "cell_type": "code",
   "execution_count": 550,
   "metadata": {
    "ExecuteTime": {
     "end_time": "2019-10-14T03:11:55.308488Z",
     "start_time": "2019-10-14T03:11:54.275125Z"
    }
   },
   "outputs": [
    {
     "data": {
      "text/plain": [
       "Text(0.5, 1, 'PET prices')"
      ]
     },
     "execution_count": 550,
     "metadata": {},
     "output_type": "execute_result"
    },
    {
     "data": {
      "image/png": "[encoded data removed]",
      "text/plain": [
       "<Figure size 432x432 with 1 Axes>"
      ]
     },
     "metadata": {
      "needs_background": "light"
     },
     "output_type": "display_data"
    }
   ],
   "source": [
    "train_target[\"pet\"].plot(ax=plt.gca(), label=\"target\")\n",
    "plt.legend(loc=0)\n",
    "plt.ylabel(\"$\")\n",
    "plt.tight_layout()\n",
    "plt.title(\"PET prices\", fontsize=12)"
   ]
  },
  {
   "cell_type": "markdown",
   "metadata": {},
   "source": [
    "# Признаки"
   ]
  },
  {
   "cell_type": "markdown",
   "metadata": {},
   "source": [
    "## Дневные данные"
   ]
  },
  {
   "cell_type": "code",
   "execution_count": 551,
   "metadata": {
    "ExecuteTime": {
     "end_time": "2019-10-14T03:11:55.342071Z",
     "start_time": "2019-10-14T03:11:55.314034Z"
    }
   },
   "outputs": [],
   "source": [
    "dfts = daily.resample(\"D\").mean()#появились выходные дни\n",
    "wfts = weekly.resample(\"D\").ffill()#добавились дни между неделями\n",
    "fts = dfts.join(wfts)"
   ]
  },
  {
   "cell_type": "code",
   "execution_count": 552,
   "metadata": {},
   "outputs": [
    {
     "data": {
      "text/plain": [
       "brent_close                1986\n",
       "brent_open                 1986\n",
       "brent_max                  1986\n",
       "brent_min                  1986\n",
       "USDCNY_close               1986\n",
       "USDCNY_open                1986\n",
       "USDCNY_max                 1986\n",
       "USDCNY_min                 1986\n",
       "paraxylene_CHN_USD         1054\n",
       "paraxylene_RT_USD           788\n",
       "paraxylene_SEA_USD          816\n",
       "pta_NEA_USD                4218\n",
       "ethylene_glycol_EU_EUR      788\n",
       "ethylene_glycol_CHN_USD     893\n",
       "dtype: int64"
      ]
     },
     "execution_count": 552,
     "metadata": {},
     "output_type": "execute_result"
    }
   ],
   "source": [
    "fts.isnull().sum()"
   ]
  },
  {
   "cell_type": "markdown",
   "metadata": {},
   "source": [
    "__Убираем индексы, чтобы в дальнейшем соединить таблицы__"
   ]
  },
  {
   "cell_type": "code",
   "execution_count": 553,
   "metadata": {},
   "outputs": [],
   "source": [
    "fts = fts.reset_index() \n",
    "train_target = train_target.reset_index()"
   ]
  },
  {
   "cell_type": "markdown",
   "metadata": {},
   "source": [
    "__Добавляем столбец key, по которому будем объединять дни и недели__"
   ]
  },
  {
   "cell_type": "code",
   "execution_count": 554,
   "metadata": {},
   "outputs": [],
   "source": [
    "fts[\"key\"] = fts[\"date\"].apply(lambda x: str(x.year) + \"_\" + str(x.month)\n",
    "                                if x.month > 9 else str(x.year) + \"_0\" + str(x.month))\n",
    "train_target[\"key\"] = train_target[\"date\"].apply(lambda x: str(x.year) + \"_\" + str(x.month)\n",
    "                                if x.month > 9 else str(x.year) + \"_0\" + str(x.month))"
   ]
  },
  {
   "cell_type": "code",
   "execution_count": 555,
   "metadata": {},
   "outputs": [],
   "source": [
    "fts_grouped = fts.drop(\"date\", axis=1).groupby(\"key\").mean().reset_index()"
   ]
  },
  {
   "cell_type": "code",
   "execution_count": 556,
   "metadata": {},
   "outputs": [
    {
     "data": {
      "text/html": [
       "<div>\n",
       "<style scoped>\n",
       "    .dataframe tbody tr th:only-of-type {\n",
       "        vertical-align: middle;\n",
       "    }\n",
       "\n",
       "    .dataframe tbody tr th {\n",
       "        vertical-align: top;\n",
       "    }\n",
       "\n",
       "    .dataframe thead th {\n",
       "        text-align: right;\n",
       "    }\n",
       "</style>\n",
       "<table border=\"1\" class=\"dataframe\">\n",
       "  <thead>\n",
       "    <tr style=\"text-align: right;\">\n",
       "      <th></th>\n",
       "      <th>key</th>\n",
       "      <th>brent_close</th>\n",
       "      <th>brent_open</th>\n",
       "      <th>brent_max</th>\n",
       "      <th>brent_min</th>\n",
       "      <th>USDCNY_close</th>\n",
       "      <th>USDCNY_open</th>\n",
       "      <th>USDCNY_max</th>\n",
       "      <th>USDCNY_min</th>\n",
       "      <th>paraxylene_CHN_USD</th>\n",
       "      <th>paraxylene_RT_USD</th>\n",
       "      <th>paraxylene_SEA_USD</th>\n",
       "      <th>pta_NEA_USD</th>\n",
       "      <th>ethylene_glycol_EU_EUR</th>\n",
       "      <th>ethylene_glycol_CHN_USD</th>\n",
       "    </tr>\n",
       "  </thead>\n",
       "  <tbody>\n",
       "    <tr>\n",
       "      <th>0</th>\n",
       "      <td>2002_07</td>\n",
       "      <td>25.680870</td>\n",
       "      <td>25.663478</td>\n",
       "      <td>25.917826</td>\n",
       "      <td>25.394348</td>\n",
       "      <td>8.276796</td>\n",
       "      <td>8.276796</td>\n",
       "      <td>8.276796</td>\n",
       "      <td>8.276796</td>\n",
       "      <td>NaN</td>\n",
       "      <td>NaN</td>\n",
       "      <td>NaN</td>\n",
       "      <td>NaN</td>\n",
       "      <td>NaN</td>\n",
       "      <td>NaN</td>\n",
       "    </tr>\n",
       "    <tr>\n",
       "      <th>1</th>\n",
       "      <td>2002_08</td>\n",
       "      <td>26.405500</td>\n",
       "      <td>26.307000</td>\n",
       "      <td>26.672500</td>\n",
       "      <td>26.056000</td>\n",
       "      <td>8.276730</td>\n",
       "      <td>8.276730</td>\n",
       "      <td>8.276730</td>\n",
       "      <td>8.276730</td>\n",
       "      <td>NaN</td>\n",
       "      <td>NaN</td>\n",
       "      <td>NaN</td>\n",
       "      <td>NaN</td>\n",
       "      <td>NaN</td>\n",
       "      <td>NaN</td>\n",
       "    </tr>\n",
       "    <tr>\n",
       "      <th>2</th>\n",
       "      <td>2002_09</td>\n",
       "      <td>28.290476</td>\n",
       "      <td>28.297619</td>\n",
       "      <td>28.625238</td>\n",
       "      <td>28.000000</td>\n",
       "      <td>8.276986</td>\n",
       "      <td>8.276986</td>\n",
       "      <td>8.276986</td>\n",
       "      <td>8.276986</td>\n",
       "      <td>NaN</td>\n",
       "      <td>NaN</td>\n",
       "      <td>NaN</td>\n",
       "      <td>NaN</td>\n",
       "      <td>NaN</td>\n",
       "      <td>NaN</td>\n",
       "    </tr>\n",
       "    <tr>\n",
       "      <th>3</th>\n",
       "      <td>2002_10</td>\n",
       "      <td>27.358261</td>\n",
       "      <td>27.471304</td>\n",
       "      <td>27.710435</td>\n",
       "      <td>27.105217</td>\n",
       "      <td>8.277039</td>\n",
       "      <td>8.277039</td>\n",
       "      <td>8.277039</td>\n",
       "      <td>8.277039</td>\n",
       "      <td>NaN</td>\n",
       "      <td>NaN</td>\n",
       "      <td>NaN</td>\n",
       "      <td>NaN</td>\n",
       "      <td>NaN</td>\n",
       "      <td>NaN</td>\n",
       "    </tr>\n",
       "    <tr>\n",
       "      <th>4</th>\n",
       "      <td>2002_11</td>\n",
       "      <td>24.226500</td>\n",
       "      <td>24.375500</td>\n",
       "      <td>24.694500</td>\n",
       "      <td>24.018000</td>\n",
       "      <td>8.277085</td>\n",
       "      <td>8.277085</td>\n",
       "      <td>8.277085</td>\n",
       "      <td>8.277085</td>\n",
       "      <td>NaN</td>\n",
       "      <td>NaN</td>\n",
       "      <td>NaN</td>\n",
       "      <td>NaN</td>\n",
       "      <td>NaN</td>\n",
       "      <td>NaN</td>\n",
       "    </tr>\n",
       "    <tr>\n",
       "      <th>...</th>\n",
       "      <td>...</td>\n",
       "      <td>...</td>\n",
       "      <td>...</td>\n",
       "      <td>...</td>\n",
       "      <td>...</td>\n",
       "      <td>...</td>\n",
       "      <td>...</td>\n",
       "      <td>...</td>\n",
       "      <td>...</td>\n",
       "      <td>...</td>\n",
       "      <td>...</td>\n",
       "      <td>...</td>\n",
       "      <td>...</td>\n",
       "      <td>...</td>\n",
       "      <td>...</td>\n",
       "    </tr>\n",
       "    <tr>\n",
       "      <th>199</th>\n",
       "      <td>2019_02</td>\n",
       "      <td>64.791176</td>\n",
       "      <td>64.534706</td>\n",
       "      <td>65.370000</td>\n",
       "      <td>63.848235</td>\n",
       "      <td>6.738694</td>\n",
       "      <td>6.738112</td>\n",
       "      <td>6.748841</td>\n",
       "      <td>6.724906</td>\n",
       "      <td>1103.000000</td>\n",
       "      <td>1000.000000</td>\n",
       "      <td>1093.000000</td>\n",
       "      <td>842.500000</td>\n",
       "      <td>630.875000</td>\n",
       "      <td>614.500000</td>\n",
       "    </tr>\n",
       "    <tr>\n",
       "      <th>200</th>\n",
       "      <td>2019_03</td>\n",
       "      <td>67.027619</td>\n",
       "      <td>66.905238</td>\n",
       "      <td>67.570476</td>\n",
       "      <td>66.253333</td>\n",
       "      <td>6.713748</td>\n",
       "      <td>6.712743</td>\n",
       "      <td>6.720933</td>\n",
       "      <td>6.703271</td>\n",
       "      <td>1093.741935</td>\n",
       "      <td>1005.322581</td>\n",
       "      <td>1083.741935</td>\n",
       "      <td>846.225806</td>\n",
       "      <td>625.564516</td>\n",
       "      <td>636.629032</td>\n",
       "    </tr>\n",
       "    <tr>\n",
       "      <th>201</th>\n",
       "      <td>2019_04</td>\n",
       "      <td>71.628571</td>\n",
       "      <td>71.375238</td>\n",
       "      <td>72.131429</td>\n",
       "      <td>70.845714</td>\n",
       "      <td>6.717619</td>\n",
       "      <td>6.715943</td>\n",
       "      <td>6.723371</td>\n",
       "      <td>6.709171</td>\n",
       "      <td>1019.300000</td>\n",
       "      <td>936.666667</td>\n",
       "      <td>1009.300000</td>\n",
       "      <td>841.683333</td>\n",
       "      <td>602.750000</td>\n",
       "      <td>601.700000</td>\n",
       "    </tr>\n",
       "    <tr>\n",
       "      <th>202</th>\n",
       "      <td>2019_05</td>\n",
       "      <td>70.134286</td>\n",
       "      <td>70.450952</td>\n",
       "      <td>71.167619</td>\n",
       "      <td>69.221905</td>\n",
       "      <td>6.858410</td>\n",
       "      <td>6.849524</td>\n",
       "      <td>6.866033</td>\n",
       "      <td>6.842395</td>\n",
       "      <td>893.451613</td>\n",
       "      <td>805.322581</td>\n",
       "      <td>883.451613</td>\n",
       "      <td>816.419355</td>\n",
       "      <td>575.322581</td>\n",
       "      <td>555.903226</td>\n",
       "    </tr>\n",
       "    <tr>\n",
       "      <th>203</th>\n",
       "      <td>2019_06</td>\n",
       "      <td>63.164737</td>\n",
       "      <td>62.934737</td>\n",
       "      <td>63.980526</td>\n",
       "      <td>62.171053</td>\n",
       "      <td>6.898626</td>\n",
       "      <td>6.901300</td>\n",
       "      <td>6.909105</td>\n",
       "      <td>6.890837</td>\n",
       "      <td>845.964286</td>\n",
       "      <td>752.500000</td>\n",
       "      <td>835.964286</td>\n",
       "      <td>724.946429</td>\n",
       "      <td>541.071429</td>\n",
       "      <td>535.178571</td>\n",
       "    </tr>\n",
       "  </tbody>\n",
       "</table>\n",
       "<p>204 rows × 15 columns</p>\n",
       "</div>"
      ],
      "text/plain": [
       "         key  brent_close  brent_open  brent_max  brent_min  USDCNY_close  \\\n",
       "0    2002_07    25.680870   25.663478  25.917826  25.394348      8.276796   \n",
       "1    2002_08    26.405500   26.307000  26.672500  26.056000      8.276730   \n",
       "2    2002_09    28.290476   28.297619  28.625238  28.000000      8.276986   \n",
       "3    2002_10    27.358261   27.471304  27.710435  27.105217      8.277039   \n",
       "4    2002_11    24.226500   24.375500  24.694500  24.018000      8.277085   \n",
       "..       ...          ...         ...        ...        ...           ...   \n",
       "199  2019_02    64.791176   64.534706  65.370000  63.848235      6.738694   \n",
       "200  2019_03    67.027619   66.905238  67.570476  66.253333      6.713748   \n",
       "201  2019_04    71.628571   71.375238  72.131429  70.845714      6.717619   \n",
       "202  2019_05    70.134286   70.450952  71.167619  69.221905      6.858410   \n",
       "203  2019_06    63.164737   62.934737  63.980526  62.171053      6.898626   \n",
       "\n",
       "     USDCNY_open  USDCNY_max  USDCNY_min  paraxylene_CHN_USD  \\\n",
       "0       8.276796    8.276796    8.276796                 NaN   \n",
       "1       8.276730    8.276730    8.276730                 NaN   \n",
       "2       8.276986    8.276986    8.276986                 NaN   \n",
       "3       8.277039    8.277039    8.277039                 NaN   \n",
       "4       8.277085    8.277085    8.277085                 NaN   \n",
       "..           ...         ...         ...                 ...   \n",
       "199     6.738112    6.748841    6.724906         1103.000000   \n",
       "200     6.712743    6.720933    6.703271         1093.741935   \n",
       "201     6.715943    6.723371    6.709171         1019.300000   \n",
       "202     6.849524    6.866033    6.842395          893.451613   \n",
       "203     6.901300    6.909105    6.890837          845.964286   \n",
       "\n",
       "     paraxylene_RT_USD  paraxylene_SEA_USD  pta_NEA_USD  \\\n",
       "0                  NaN                 NaN          NaN   \n",
       "1                  NaN                 NaN          NaN   \n",
       "2                  NaN                 NaN          NaN   \n",
       "3                  NaN                 NaN          NaN   \n",
       "4                  NaN                 NaN          NaN   \n",
       "..                 ...                 ...          ...   \n",
       "199        1000.000000         1093.000000   842.500000   \n",
       "200        1005.322581         1083.741935   846.225806   \n",
       "201         936.666667         1009.300000   841.683333   \n",
       "202         805.322581          883.451613   816.419355   \n",
       "203         752.500000          835.964286   724.946429   \n",
       "\n",
       "     ethylene_glycol_EU_EUR  ethylene_glycol_CHN_USD  \n",
       "0                       NaN                      NaN  \n",
       "1                       NaN                      NaN  \n",
       "2                       NaN                      NaN  \n",
       "3                       NaN                      NaN  \n",
       "4                       NaN                      NaN  \n",
       "..                      ...                      ...  \n",
       "199              630.875000               614.500000  \n",
       "200              625.564516               636.629032  \n",
       "201              602.750000               601.700000  \n",
       "202              575.322581               555.903226  \n",
       "203              541.071429               535.178571  \n",
       "\n",
       "[204 rows x 15 columns]"
      ]
     },
     "execution_count": 556,
     "metadata": {},
     "output_type": "execute_result"
    }
   ],
   "source": [
    "fts_grouped"
   ]
  },
  {
   "cell_type": "code",
   "execution_count": 557,
   "metadata": {},
   "outputs": [],
   "source": [
    "df = pd.merge(fts_grouped, train_target, how=\"left\", on=\"key\") #код для объединения"
   ]
  },
  {
   "cell_type": "code",
   "execution_count": 558,
   "metadata": {},
   "outputs": [
    {
     "data": {
      "text/html": [
       "<div>\n",
       "<style scoped>\n",
       "    .dataframe tbody tr th:only-of-type {\n",
       "        vertical-align: middle;\n",
       "    }\n",
       "\n",
       "    .dataframe tbody tr th {\n",
       "        vertical-align: top;\n",
       "    }\n",
       "\n",
       "    .dataframe thead th {\n",
       "        text-align: right;\n",
       "    }\n",
       "</style>\n",
       "<table border=\"1\" class=\"dataframe\">\n",
       "  <thead>\n",
       "    <tr style=\"text-align: right;\">\n",
       "      <th></th>\n",
       "      <th>date</th>\n",
       "      <th>pet</th>\n",
       "      <th>key</th>\n",
       "    </tr>\n",
       "  </thead>\n",
       "  <tbody>\n",
       "    <tr>\n",
       "      <th>0</th>\n",
       "      <td>2004-06-01</td>\n",
       "      <td>961.250</td>\n",
       "      <td>2004_06</td>\n",
       "    </tr>\n",
       "    <tr>\n",
       "      <th>1</th>\n",
       "      <td>2004-07-01</td>\n",
       "      <td>962.000</td>\n",
       "      <td>2004_07</td>\n",
       "    </tr>\n",
       "    <tr>\n",
       "      <th>2</th>\n",
       "      <td>2004-08-01</td>\n",
       "      <td>1053.750</td>\n",
       "      <td>2004_08</td>\n",
       "    </tr>\n",
       "    <tr>\n",
       "      <th>3</th>\n",
       "      <td>2004-09-01</td>\n",
       "      <td>1180.000</td>\n",
       "      <td>2004_09</td>\n",
       "    </tr>\n",
       "    <tr>\n",
       "      <th>4</th>\n",
       "      <td>2004-10-01</td>\n",
       "      <td>1240.000</td>\n",
       "      <td>2004_10</td>\n",
       "    </tr>\n",
       "    <tr>\n",
       "      <th>...</th>\n",
       "      <td>...</td>\n",
       "      <td>...</td>\n",
       "      <td>...</td>\n",
       "    </tr>\n",
       "    <tr>\n",
       "      <th>134</th>\n",
       "      <td>2015-08-01</td>\n",
       "      <td>908.125</td>\n",
       "      <td>2015_08</td>\n",
       "    </tr>\n",
       "    <tr>\n",
       "      <th>135</th>\n",
       "      <td>2015-09-01</td>\n",
       "      <td>886.250</td>\n",
       "      <td>2015_09</td>\n",
       "    </tr>\n",
       "    <tr>\n",
       "      <th>136</th>\n",
       "      <td>2015-10-01</td>\n",
       "      <td>868.500</td>\n",
       "      <td>2015_10</td>\n",
       "    </tr>\n",
       "    <tr>\n",
       "      <th>137</th>\n",
       "      <td>2015-11-01</td>\n",
       "      <td>853.750</td>\n",
       "      <td>2015_11</td>\n",
       "    </tr>\n",
       "    <tr>\n",
       "      <th>138</th>\n",
       "      <td>2015-12-01</td>\n",
       "      <td>818.750</td>\n",
       "      <td>2015_12</td>\n",
       "    </tr>\n",
       "  </tbody>\n",
       "</table>\n",
       "<p>139 rows × 3 columns</p>\n",
       "</div>"
      ],
      "text/plain": [
       "          date       pet      key\n",
       "0   2004-06-01   961.250  2004_06\n",
       "1   2004-07-01   962.000  2004_07\n",
       "2   2004-08-01  1053.750  2004_08\n",
       "3   2004-09-01  1180.000  2004_09\n",
       "4   2004-10-01  1240.000  2004_10\n",
       "..         ...       ...      ...\n",
       "134 2015-08-01   908.125  2015_08\n",
       "135 2015-09-01   886.250  2015_09\n",
       "136 2015-10-01   868.500  2015_10\n",
       "137 2015-11-01   853.750  2015_11\n",
       "138 2015-12-01   818.750  2015_12\n",
       "\n",
       "[139 rows x 3 columns]"
      ]
     },
     "execution_count": 558,
     "metadata": {},
     "output_type": "execute_result"
    }
   ],
   "source": [
    "train_target"
   ]
  },
  {
   "cell_type": "code",
   "execution_count": 559,
   "metadata": {},
   "outputs": [
    {
     "data": {
      "text/plain": [
       "Index(['key', 'brent_close', 'brent_open', 'brent_max', 'brent_min',\n",
       "       'USDCNY_close', 'USDCNY_open', 'USDCNY_max', 'USDCNY_min',\n",
       "       'paraxylene_CHN_USD', 'paraxylene_RT_USD', 'paraxylene_SEA_USD',\n",
       "       'pta_NEA_USD', 'ethylene_glycol_EU_EUR', 'ethylene_glycol_CHN_USD',\n",
       "       'date', 'pet'],\n",
       "      dtype='object')"
      ]
     },
     "execution_count": 559,
     "metadata": {},
     "output_type": "execute_result"
    }
   ],
   "source": [
    "df.columns"
   ]
  },
  {
   "cell_type": "markdown",
   "metadata": {},
   "source": [
    "__Сдвинем все признаки на 2 месяца вперед, так как мы можем использовать данные не позже 10-го числа предыдущего месяца для прогнозирования значений целевой переменной.__"
   ]
  },
  {
   "cell_type": "markdown",
   "metadata": {},
   "source": [
    "__Также создадим лаги целевой переменной.__"
   ]
  },
  {
   "cell_type": "code",
   "execution_count": 560,
   "metadata": {},
   "outputs": [],
   "source": [
    "df[\"pet_feat\"] = df[\"pet\"].shift(2) #сдвигаем на 2 месяца вперед"
   ]
  },
  {
   "cell_type": "code",
   "execution_count": 561,
   "metadata": {},
   "outputs": [],
   "source": [
    "for col in df.columns:\n",
    "    if col not in [\"key\", \"pet\", \"pet_feat\", \"date\"]:\n",
    "        df[col] = df[col].shift(2) # сдвигаем на 2 месяца вперед"
   ]
  },
  {
   "cell_type": "code",
   "execution_count": 562,
   "metadata": {},
   "outputs": [],
   "source": [
    "for col in df.columns:\n",
    "    if col not in [\"key\", \"pet\", \"date\"]:\n",
    "        for lg in range(1, 7):\n",
    "            df[col+\"_lag_\"+str(lg)] = df[col].shift(lg)        "
   ]
  },
  {
   "cell_type": "markdown",
   "metadata": {},
   "source": [
    "__Посмотрим на кол-во пропусков.__"
   ]
  },
  {
   "cell_type": "code",
   "execution_count": 563,
   "metadata": {},
   "outputs": [
    {
     "data": {
      "text/html": [
       "<div>\n",
       "<style scoped>\n",
       "    .dataframe tbody tr th:only-of-type {\n",
       "        vertical-align: middle;\n",
       "    }\n",
       "\n",
       "    .dataframe tbody tr th {\n",
       "        vertical-align: top;\n",
       "    }\n",
       "\n",
       "    .dataframe thead th {\n",
       "        text-align: right;\n",
       "    }\n",
       "</style>\n",
       "<table border=\"1\" class=\"dataframe\">\n",
       "  <thead>\n",
       "    <tr style=\"text-align: right;\">\n",
       "      <th></th>\n",
       "      <th>date</th>\n",
       "      <th>pet</th>\n",
       "      <th>key</th>\n",
       "    </tr>\n",
       "  </thead>\n",
       "  <tbody>\n",
       "    <tr>\n",
       "      <th>0</th>\n",
       "      <td>2004-06-01</td>\n",
       "      <td>961.250</td>\n",
       "      <td>2004_06</td>\n",
       "    </tr>\n",
       "    <tr>\n",
       "      <th>1</th>\n",
       "      <td>2004-07-01</td>\n",
       "      <td>962.000</td>\n",
       "      <td>2004_07</td>\n",
       "    </tr>\n",
       "    <tr>\n",
       "      <th>2</th>\n",
       "      <td>2004-08-01</td>\n",
       "      <td>1053.750</td>\n",
       "      <td>2004_08</td>\n",
       "    </tr>\n",
       "    <tr>\n",
       "      <th>3</th>\n",
       "      <td>2004-09-01</td>\n",
       "      <td>1180.000</td>\n",
       "      <td>2004_09</td>\n",
       "    </tr>\n",
       "    <tr>\n",
       "      <th>4</th>\n",
       "      <td>2004-10-01</td>\n",
       "      <td>1240.000</td>\n",
       "      <td>2004_10</td>\n",
       "    </tr>\n",
       "    <tr>\n",
       "      <th>...</th>\n",
       "      <td>...</td>\n",
       "      <td>...</td>\n",
       "      <td>...</td>\n",
       "    </tr>\n",
       "    <tr>\n",
       "      <th>134</th>\n",
       "      <td>2015-08-01</td>\n",
       "      <td>908.125</td>\n",
       "      <td>2015_08</td>\n",
       "    </tr>\n",
       "    <tr>\n",
       "      <th>135</th>\n",
       "      <td>2015-09-01</td>\n",
       "      <td>886.250</td>\n",
       "      <td>2015_09</td>\n",
       "    </tr>\n",
       "    <tr>\n",
       "      <th>136</th>\n",
       "      <td>2015-10-01</td>\n",
       "      <td>868.500</td>\n",
       "      <td>2015_10</td>\n",
       "    </tr>\n",
       "    <tr>\n",
       "      <th>137</th>\n",
       "      <td>2015-11-01</td>\n",
       "      <td>853.750</td>\n",
       "      <td>2015_11</td>\n",
       "    </tr>\n",
       "    <tr>\n",
       "      <th>138</th>\n",
       "      <td>2015-12-01</td>\n",
       "      <td>818.750</td>\n",
       "      <td>2015_12</td>\n",
       "    </tr>\n",
       "  </tbody>\n",
       "</table>\n",
       "<p>139 rows × 3 columns</p>\n",
       "</div>"
      ],
      "text/plain": [
       "          date       pet      key\n",
       "0   2004-06-01   961.250  2004_06\n",
       "1   2004-07-01   962.000  2004_07\n",
       "2   2004-08-01  1053.750  2004_08\n",
       "3   2004-09-01  1180.000  2004_09\n",
       "4   2004-10-01  1240.000  2004_10\n",
       "..         ...       ...      ...\n",
       "134 2015-08-01   908.125  2015_08\n",
       "135 2015-09-01   886.250  2015_09\n",
       "136 2015-10-01   868.500  2015_10\n",
       "137 2015-11-01   853.750  2015_11\n",
       "138 2015-12-01   818.750  2015_12\n",
       "\n",
       "[139 rows x 3 columns]"
      ]
     },
     "execution_count": 563,
     "metadata": {},
     "output_type": "execute_result"
    }
   ],
   "source": [
    "train_target"
   ]
  },
  {
   "cell_type": "markdown",
   "metadata": {},
   "source": [
    "__Оставим наблюдения, начиная с февраля 2005__"
   ]
  },
  {
   "cell_type": "markdown",
   "metadata": {},
   "source": [
    "__Делаем это, чтобы убрать пропуски, появившиеся из-за создания лагов.__"
   ]
  },
  {
   "cell_type": "code",
   "execution_count": 564,
   "metadata": {},
   "outputs": [],
   "source": [
    "df[\"key\"] = df[\"key\"].apply(lambda x: int(x)) #приводим к числу"
   ]
  },
  {
   "cell_type": "code",
   "execution_count": 565,
   "metadata": {},
   "outputs": [],
   "source": [
    "df = df[df[\"key\"] > 200501]"
   ]
  },
  {
   "cell_type": "code",
   "execution_count": 566,
   "metadata": {},
   "outputs": [
    {
     "data": {
      "text/html": [
       "<div>\n",
       "<style scoped>\n",
       "    .dataframe tbody tr th:only-of-type {\n",
       "        vertical-align: middle;\n",
       "    }\n",
       "\n",
       "    .dataframe tbody tr th {\n",
       "        vertical-align: top;\n",
       "    }\n",
       "\n",
       "    .dataframe thead th {\n",
       "        text-align: right;\n",
       "    }\n",
       "</style>\n",
       "<table border=\"1\" class=\"dataframe\">\n",
       "  <thead>\n",
       "    <tr style=\"text-align: right;\">\n",
       "      <th></th>\n",
       "      <th>key</th>\n",
       "      <th>brent_close</th>\n",
       "      <th>brent_open</th>\n",
       "      <th>brent_max</th>\n",
       "      <th>brent_min</th>\n",
       "      <th>USDCNY_close</th>\n",
       "      <th>USDCNY_open</th>\n",
       "      <th>USDCNY_max</th>\n",
       "      <th>USDCNY_min</th>\n",
       "      <th>paraxylene_CHN_USD</th>\n",
       "      <th>...</th>\n",
       "      <th>ethylene_glycol_CHN_USD_lag_3</th>\n",
       "      <th>ethylene_glycol_CHN_USD_lag_4</th>\n",
       "      <th>ethylene_glycol_CHN_USD_lag_5</th>\n",
       "      <th>ethylene_glycol_CHN_USD_lag_6</th>\n",
       "      <th>pet_feat_lag_1</th>\n",
       "      <th>pet_feat_lag_2</th>\n",
       "      <th>pet_feat_lag_3</th>\n",
       "      <th>pet_feat_lag_4</th>\n",
       "      <th>pet_feat_lag_5</th>\n",
       "      <th>pet_feat_lag_6</th>\n",
       "    </tr>\n",
       "  </thead>\n",
       "  <tbody>\n",
       "    <tr>\n",
       "      <th>31</th>\n",
       "      <td>200502</td>\n",
       "      <td>40.290000</td>\n",
       "      <td>40.559000</td>\n",
       "      <td>41.233500</td>\n",
       "      <td>39.505500</td>\n",
       "      <td>8.2765</td>\n",
       "      <td>8.2765</td>\n",
       "      <td>8.2765</td>\n",
       "      <td>8.2765</td>\n",
       "      <td>NaN</td>\n",
       "      <td>...</td>\n",
       "      <td>1160.166667</td>\n",
       "      <td>1043.387097</td>\n",
       "      <td>883.951613</td>\n",
       "      <td>853.416667</td>\n",
       "      <td>1266.25</td>\n",
       "      <td>1240.00</td>\n",
       "      <td>1180.00</td>\n",
       "      <td>1053.75</td>\n",
       "      <td>962.00</td>\n",
       "      <td>961.25</td>\n",
       "    </tr>\n",
       "    <tr>\n",
       "      <th>32</th>\n",
       "      <td>200503</td>\n",
       "      <td>44.415789</td>\n",
       "      <td>44.145263</td>\n",
       "      <td>44.966842</td>\n",
       "      <td>43.463158</td>\n",
       "      <td>8.2765</td>\n",
       "      <td>8.2765</td>\n",
       "      <td>8.2765</td>\n",
       "      <td>8.2765</td>\n",
       "      <td>967.000000</td>\n",
       "      <td>...</td>\n",
       "      <td>1170.000000</td>\n",
       "      <td>1160.166667</td>\n",
       "      <td>1043.387097</td>\n",
       "      <td>883.951613</td>\n",
       "      <td>1232.50</td>\n",
       "      <td>1266.25</td>\n",
       "      <td>1240.00</td>\n",
       "      <td>1180.00</td>\n",
       "      <td>1053.75</td>\n",
       "      <td>962.00</td>\n",
       "    </tr>\n",
       "    <tr>\n",
       "      <th>33</th>\n",
       "      <td>200504</td>\n",
       "      <td>46.271176</td>\n",
       "      <td>46.165294</td>\n",
       "      <td>46.730000</td>\n",
       "      <td>45.675294</td>\n",
       "      <td>8.2765</td>\n",
       "      <td>8.2765</td>\n",
       "      <td>8.2765</td>\n",
       "      <td>8.2765</td>\n",
       "      <td>989.642857</td>\n",
       "      <td>...</td>\n",
       "      <td>1126.583333</td>\n",
       "      <td>1170.000000</td>\n",
       "      <td>1160.166667</td>\n",
       "      <td>1043.387097</td>\n",
       "      <td>1210.00</td>\n",
       "      <td>1232.50</td>\n",
       "      <td>1266.25</td>\n",
       "      <td>1240.00</td>\n",
       "      <td>1180.00</td>\n",
       "      <td>1053.75</td>\n",
       "    </tr>\n",
       "    <tr>\n",
       "      <th>34</th>\n",
       "      <td>200505</td>\n",
       "      <td>53.272857</td>\n",
       "      <td>53.005238</td>\n",
       "      <td>53.806190</td>\n",
       "      <td>52.400476</td>\n",
       "      <td>8.2765</td>\n",
       "      <td>8.2765</td>\n",
       "      <td>8.2765</td>\n",
       "      <td>8.2765</td>\n",
       "      <td>994.193548</td>\n",
       "      <td>...</td>\n",
       "      <td>952.666667</td>\n",
       "      <td>1126.583333</td>\n",
       "      <td>1170.000000</td>\n",
       "      <td>1160.166667</td>\n",
       "      <td>1235.00</td>\n",
       "      <td>1210.00</td>\n",
       "      <td>1232.50</td>\n",
       "      <td>1266.25</td>\n",
       "      <td>1240.00</td>\n",
       "      <td>1180.00</td>\n",
       "    </tr>\n",
       "    <tr>\n",
       "      <th>35</th>\n",
       "      <td>200506</td>\n",
       "      <td>53.307143</td>\n",
       "      <td>53.499048</td>\n",
       "      <td>54.202857</td>\n",
       "      <td>52.550476</td>\n",
       "      <td>8.2765</td>\n",
       "      <td>8.2765</td>\n",
       "      <td>8.2765</td>\n",
       "      <td>8.2765</td>\n",
       "      <td>914.833333</td>\n",
       "      <td>...</td>\n",
       "      <td>1018.400000</td>\n",
       "      <td>952.666667</td>\n",
       "      <td>1126.583333</td>\n",
       "      <td>1170.000000</td>\n",
       "      <td>1271.25</td>\n",
       "      <td>1235.00</td>\n",
       "      <td>1210.00</td>\n",
       "      <td>1232.50</td>\n",
       "      <td>1266.25</td>\n",
       "      <td>1240.00</td>\n",
       "    </tr>\n",
       "  </tbody>\n",
       "</table>\n",
       "<p>5 rows × 108 columns</p>\n",
       "</div>"
      ],
      "text/plain": [
       "       key  brent_close  brent_open  brent_max  brent_min  USDCNY_close  \\\n",
       "31  200502    40.290000   40.559000  41.233500  39.505500        8.2765   \n",
       "32  200503    44.415789   44.145263  44.966842  43.463158        8.2765   \n",
       "33  200504    46.271176   46.165294  46.730000  45.675294        8.2765   \n",
       "34  200505    53.272857   53.005238  53.806190  52.400476        8.2765   \n",
       "35  200506    53.307143   53.499048  54.202857  52.550476        8.2765   \n",
       "\n",
       "    USDCNY_open  USDCNY_max  USDCNY_min  paraxylene_CHN_USD  ...  \\\n",
       "31       8.2765      8.2765      8.2765                 NaN  ...   \n",
       "32       8.2765      8.2765      8.2765          967.000000  ...   \n",
       "33       8.2765      8.2765      8.2765          989.642857  ...   \n",
       "34       8.2765      8.2765      8.2765          994.193548  ...   \n",
       "35       8.2765      8.2765      8.2765          914.833333  ...   \n",
       "\n",
       "    ethylene_glycol_CHN_USD_lag_3  ethylene_glycol_CHN_USD_lag_4  \\\n",
       "31                    1160.166667                    1043.387097   \n",
       "32                    1170.000000                    1160.166667   \n",
       "33                    1126.583333                    1170.000000   \n",
       "34                     952.666667                    1126.583333   \n",
       "35                    1018.400000                     952.666667   \n",
       "\n",
       "    ethylene_glycol_CHN_USD_lag_5  ethylene_glycol_CHN_USD_lag_6  \\\n",
       "31                     883.951613                     853.416667   \n",
       "32                    1043.387097                     883.951613   \n",
       "33                    1160.166667                    1043.387097   \n",
       "34                    1170.000000                    1160.166667   \n",
       "35                    1126.583333                    1170.000000   \n",
       "\n",
       "    pet_feat_lag_1 pet_feat_lag_2  pet_feat_lag_3  pet_feat_lag_4  \\\n",
       "31         1266.25        1240.00         1180.00         1053.75   \n",
       "32         1232.50        1266.25         1240.00         1180.00   \n",
       "33         1210.00        1232.50         1266.25         1240.00   \n",
       "34         1235.00        1210.00         1232.50         1266.25   \n",
       "35         1271.25        1235.00         1210.00         1232.50   \n",
       "\n",
       "    pet_feat_lag_5  pet_feat_lag_6  \n",
       "31          962.00          961.25  \n",
       "32         1053.75          962.00  \n",
       "33         1180.00         1053.75  \n",
       "34         1240.00         1180.00  \n",
       "35         1266.25         1240.00  \n",
       "\n",
       "[5 rows x 108 columns]"
      ]
     },
     "execution_count": 566,
     "metadata": {},
     "output_type": "execute_result"
    }
   ],
   "source": [
    "df.head()"
   ]
  },
  {
   "cell_type": "code",
   "execution_count": 567,
   "metadata": {},
   "outputs": [
    {
     "data": {
      "text/plain": [
       "key                          0\n",
       "paraxylene_RT_USD_lag_1      0\n",
       "USDCNY_min_lag_6             0\n",
       "USDCNY_min_lag_5             0\n",
       "USDCNY_min_lag_4             0\n",
       "                          ... \n",
       "pta_NEA_USD_lag_2          108\n",
       "pta_NEA_USD_lag_3          109\n",
       "pta_NEA_USD_lag_4          110\n",
       "pta_NEA_USD_lag_5          111\n",
       "pta_NEA_USD_lag_6          112\n",
       "Length: 108, dtype: int64"
      ]
     },
     "execution_count": 567,
     "metadata": {},
     "output_type": "execute_result"
    }
   ],
   "source": [
    "df.isna().sum().sort_values()"
   ]
  },
  {
   "cell_type": "markdown",
   "metadata": {},
   "source": [
    "__Заполним пропуски медианными значениями и отбросим признак с огромным кол-вом пропусков__"
   ]
  },
  {
   "cell_type": "code",
   "execution_count": 568,
   "metadata": {},
   "outputs": [],
   "source": [
    "df.drop(\"date\", axis=1, inplace=True)"
   ]
  },
  {
   "cell_type": "code",
   "execution_count": 569,
   "metadata": {},
   "outputs": [],
   "source": [
    "df.drop([col for col in df.columns if \"pta_NEA_USD\" in col], axis=1, inplace=True) #слишком много  пропусков, удаляем"
   ]
  },
  {
   "cell_type": "code",
   "execution_count": 570,
   "metadata": {},
   "outputs": [],
   "source": [
    "df_aux = df[(df[\"key\"] >= 200502) & \n",
    "             (df[\"key\"] < 200702)] # на этом периоде посчитаем медиану для заполнения пропусков\n",
    "\n",
    "for col in df.columns:\n",
    "    if col != \"key\" and \"pet_feat\" not in col:\n",
    "        med_to_fill = df_aux[col].median()\n",
    "        df[col].fillna(med_to_fill, inplace=True)"
   ]
  },
  {
   "cell_type": "markdown",
   "metadata": {},
   "source": [
    "__Делим выборку на трейн и тест__"
   ]
  },
  {
   "cell_type": "code",
   "execution_count": 571,
   "metadata": {},
   "outputs": [],
   "source": [
    "df_train = df[(df[\"key\"] >= 200502) & \n",
    "             (df[\"key\"] <= 201512)] # до декабря 2015 включительно\n",
    "\n",
    "df_test = df[df[\"key\"] > 201512] # с января 2016"
   ]
  },
  {
   "cell_type": "code",
   "execution_count": 572,
   "metadata": {},
   "outputs": [
    {
     "data": {
      "text/plain": [
       "(42, 100)"
      ]
     },
     "execution_count": 572,
     "metadata": {},
     "output_type": "execute_result"
    }
   ],
   "source": [
    "df_test.shape"
   ]
  },
  {
   "cell_type": "code",
   "execution_count": 573,
   "metadata": {},
   "outputs": [
    {
     "data": {
      "text/plain": [
       "(131, 100)"
      ]
     },
     "execution_count": 573,
     "metadata": {},
     "output_type": "execute_result"
    }
   ],
   "source": [
    "df_train.shape"
   ]
  },
  {
   "cell_type": "code",
   "execution_count": 574,
   "metadata": {},
   "outputs": [
    {
     "data": {
      "text/plain": [
       "key                0\n",
       "brent_close        0\n",
       "brent_open         0\n",
       "brent_max          0\n",
       "brent_min          0\n",
       "                  ..\n",
       "pet_feat_lag_2    38\n",
       "pet_feat_lag_3    37\n",
       "pet_feat_lag_4    36\n",
       "pet_feat_lag_5    35\n",
       "pet_feat_lag_6    34\n",
       "Length: 100, dtype: int64"
      ]
     },
     "execution_count": 574,
     "metadata": {},
     "output_type": "execute_result"
    }
   ],
   "source": [
    "df.isna().sum()"
   ]
  },
  {
   "cell_type": "markdown",
   "metadata": {},
   "source": [
    "__Мы будем обучать различные модели, в том числе линейные, поэтому сперва необходимо шкалировать признаки.__"
   ]
  },
  {
   "cell_type": "code",
   "execution_count": 575,
   "metadata": {},
   "outputs": [
    {
     "name": "stderr",
     "output_type": "stream",
     "text": [
      "/Users/magatigr/opt/anaconda3/lib/python3.7/site-packages/pandas/core/frame.py:3997: SettingWithCopyWarning: \n",
      "A value is trying to be set on a copy of a slice from a DataFrame\n",
      "\n",
      "See the caveats in the documentation: https://pandas.pydata.org/pandas-docs/stable/user_guide/indexing.html#returning-a-view-versus-a-copy\n",
      "  errors=errors,\n"
     ]
    }
   ],
   "source": [
    "y = df_train[\"pet\"] # таргет\n",
    "\n",
    "df_train.drop([\"pet\", \"key\"], axis=1, inplace=True)\n",
    "df_test.drop([\"pet\", \"key\"], axis=1, inplace=True)"
   ]
  },
  {
   "cell_type": "code",
   "execution_count": 576,
   "metadata": {},
   "outputs": [],
   "source": [
    "minmax = MinMaxScaler(feature_range=(0,1))\n",
    "\n",
    "df_train_sc = pd.DataFrame(minmax.fit_transform(df_train))\n",
    "df_test_sc = pd.DataFrame(minmax.fit_transform(df_test))\n",
    "\n",
    "df_train_sc.columns = df_train.columns\n",
    "df_test_sc.columns = df_test.columns"
   ]
  },
  {
   "cell_type": "code",
   "execution_count": 577,
   "metadata": {},
   "outputs": [],
   "source": [
    "all_cols = df_train_sc.columns\n",
    "\n",
    "best_cols = []\n",
    "\n",
    "model = LinearRegression()"
   ]
  },
  {
   "cell_type": "markdown",
   "metadata": {},
   "source": [
    "__Оставим последние 11 строк трейна для валидации. В конце анализа мы обучим на первых 120 строках линейную регрессию, градиентный бустинг и случайный лес, а на последних 11 строках (валидационная выборка) сделаем прогнозы, вычислим MAPE и выберем лучшую модель.__"
   ]
  },
  {
   "cell_type": "code",
   "execution_count": 578,
   "metadata": {},
   "outputs": [],
   "source": [
    "slices = [(0, 60, 72),\n",
    "         (12, 72, 84),\n",
    "         (24, 84, 96),\n",
    "         (36, 96, 108),\n",
    "         (48, 108, 120)]"
   ]
  },
  {
   "cell_type": "code",
   "execution_count": 579,
   "metadata": {},
   "outputs": [],
   "source": [
    "def mape(y_true, y_pred):\n",
    "    return np.mean(np.abs((y_pred-y_true)/y_true)) * 100"
   ]
  },
  {
   "cell_type": "markdown",
   "metadata": {},
   "source": [
    "__Отберем признаки с помощью forward stepwise selection__"
   ]
  },
  {
   "cell_type": "markdown",
   "metadata": {},
   "source": [
    "__Процедура:__\n",
    "    \n",
    "__1) Добавляем в модель по 1 признаку из списка all_cols и для каждого признака обучаем модель на разных временных срезах, делаем прогнозы на разных срезах (срезы указаны в списке slices) и вычисляем дял каждого среза out-of-time MAPE.__\n",
    "\n",
    "__2) Получаем 5 out-of-time MAPE и считаем среднее.__\n",
    "\n",
    "__3) Получаем словарь, где ключ - добавленный в лин.модель признак, а значение - среднее out-of-time MAPE.__\n",
    "\n",
    "__4) Выбираем признак, которому соответствует наименьшая out-of-time MAPE, и добавляем в список best_cols.__\n",
    "\n",
    "__5) Повторяем процедуру до тех пор, пока не отберем 30 признаков.__"
   ]
  },
  {
   "cell_type": "code",
   "execution_count": 580,
   "metadata": {},
   "outputs": [
    {
     "name": "stderr",
     "output_type": "stream",
     "text": [
      "100%|██████████| 30/30 [00:46<00:00,  1.56s/it]\n"
     ]
    }
   ],
   "source": [
    "dict_mape = {}\n",
    "\n",
    "for _ in tqdm(range(30)):\n",
    "    dict_mape_aux = {}\n",
    "    for feat in all_cols:\n",
    "        if feat not in best_cols:\n",
    "            best_cols.append(feat)\n",
    "            list_mape_aux = []\n",
    "            for sl in slices:\n",
    "                i, j, k = sl\n",
    "                X_train = df_train_sc.iloc[i:j, :]\n",
    "                X_test = df_train_sc.iloc[j:k, :]\n",
    "                y_train = y[i:j]\n",
    "                y_true = y[j:k]\n",
    "                if len(best_cols) == 1:\n",
    "                    model.fit(np.array(X_train[best_cols]).reshape(-1,1), y_train)\n",
    "                    y_pred = model.predict(np.array(X_test[best_cols]).reshape(-1,1))\n",
    "                else:\n",
    "                    model.fit(X_train[best_cols], y_train)\n",
    "                    y_pred = model.predict(X_test[best_cols])\n",
    "                list_mape_aux.append(mape(y_true, y_pred))\n",
    "            best_cols.pop()\n",
    "            dict_mape_aux[feat] = np.mean(list_mape_aux)\n",
    "    best_col, best_mape = sorted(dict_mape_aux.items(), key=lambda x: x[1])[0]\n",
    "    best_cols.append(best_col)\n",
    "    dict_mape[tuple(best_cols)] = best_mape"
   ]
  },
  {
   "cell_type": "code",
   "execution_count": 581,
   "metadata": {},
   "outputs": [
    {
     "data": {
      "text/plain": [
       "Text(0, 0.5, 'OOT MAPE')"
      ]
     },
     "execution_count": 581,
     "metadata": {},
     "output_type": "execute_result"
    },
    {
     "data": {
      "image/png": "[encoded data removed]",
      "text/plain": [
       "<Figure size 1440x720 with 1 Axes>"
      ]
     },
     "metadata": {
      "needs_background": "light"
     },
     "output_type": "display_data"
    }
   ],
   "source": [
    "plt.figure(figsize=(20,10))\n",
    "sns.lineplot(x=range(1,31), y=list(dict_mape.values()))\n",
    "plt.title(\"Out-of-time MAPE vs number of features\")\n",
    "plt.xlabel(\"Number of features\")\n",
    "plt.ylabel(\"OOT MAPE\")"
   ]
  },
  {
   "cell_type": "markdown",
   "metadata": {},
   "source": [
    "__Отберем первые 10 признаков и применим backward stepwise selection, чтобы оставить 5 лучших признаков.__\n",
    "\n",
    "__В отличие от forward stepwise selection мы будем поочередно отбрасывать признак и считать OOT MAPE и выбирать признак, отбрасывание которого выльется в самый высокий средний OOT MAPE.__\n",
    "\n",
    "__Дело в том, что с добавлением признаков OOT MAPE падает немонотонно.__"
   ]
  },
  {
   "cell_type": "code",
   "execution_count": 582,
   "metadata": {},
   "outputs": [],
   "source": [
    "top10_feat = list(list(dict_mape.keys())[9])"
   ]
  },
  {
   "cell_type": "code",
   "execution_count": 583,
   "metadata": {},
   "outputs": [],
   "source": [
    "model = LinearRegression()\n",
    "\n",
    "top5_feat = top10_feat.copy()"
   ]
  },
  {
   "cell_type": "code",
   "execution_count": 584,
   "metadata": {},
   "outputs": [
    {
     "data": {
      "text/plain": [
       "['pet_feat',\n",
       " 'ethylene_glycol_CHN_USD_lag_6',\n",
       " 'USDCNY_min_lag_4',\n",
       " 'USDCNY_min_lag_6',\n",
       " 'brent_min',\n",
       " 'USDCNY_min_lag_5',\n",
       " 'ethylene_glycol_EU_EUR',\n",
       " 'paraxylene_CHN_USD',\n",
       " 'paraxylene_CHN_USD_lag_1',\n",
       " 'paraxylene_RT_USD_lag_1']"
      ]
     },
     "execution_count": 584,
     "metadata": {},
     "output_type": "execute_result"
    }
   ],
   "source": [
    "top5_feat"
   ]
  },
  {
   "cell_type": "code",
   "execution_count": 585,
   "metadata": {},
   "outputs": [
    {
     "name": "stderr",
     "output_type": "stream",
     "text": [
      "100%|██████████| 5/5 [00:01<00:00,  4.80it/s]\n"
     ]
    }
   ],
   "source": [
    "dict_mape_top5 = {}\n",
    "\n",
    "for _ in tqdm(range(5)):\n",
    "    dict_mape_aux = {}\n",
    "    for feat in top10_feat:\n",
    "        if feat in top5_feat:\n",
    "            top5_feat.remove(feat)\n",
    "            list_mape_aux = []\n",
    "            for sl in slices:\n",
    "                i, j, k = sl\n",
    "                X_train = df_train_sc.iloc[i:j, :]\n",
    "                X_test = df_train_sc.iloc[j:k, :]\n",
    "                y_train = y[i:j]\n",
    "                y_true = y[j:k]\n",
    "                if len(best_cols) == 1:\n",
    "                    model.fit(np.array(X_train[top5_feat]).reshape(-1,1), y_train)\n",
    "                    y_pred = model.predict(np.array(X_test[top5_feat]).reshape(-1,1))\n",
    "                else:\n",
    "                    model.fit(X_train[top5_feat], y_train)\n",
    "                    y_pred = model.predict(X_test[top5_feat])\n",
    "                list_mape_aux.append(mape(y_true, y_pred))\n",
    "            top5_feat.append(feat)\n",
    "            dict_mape_aux[feat] = np.mean(list_mape_aux)\n",
    "    best_col, best_mape = sorted(dict_mape_aux.items(), key=lambda x: x[1])[0]\n",
    "    top5_feat.remove(best_col)\n",
    "    dict_mape_top5[tuple(top5_feat)] = best_mape"
   ]
  },
  {
   "cell_type": "code",
   "execution_count": 586,
   "metadata": {},
   "outputs": [
    {
     "data": {
      "text/plain": [
       "['pet_feat',\n",
       " 'USDCNY_min_lag_6',\n",
       " 'paraxylene_CHN_USD',\n",
       " 'paraxylene_CHN_USD_lag_1',\n",
       " 'paraxylene_RT_USD_lag_1']"
      ]
     },
     "execution_count": 586,
     "metadata": {},
     "output_type": "execute_result"
    }
   ],
   "source": [
    "top5_feat"
   ]
  },
  {
   "cell_type": "markdown",
   "metadata": {},
   "source": [
    "__Возьмем отобранные 5 признаков и проанализируем их на мультиколлинеарность.__"
   ]
  },
  {
   "cell_type": "markdown",
   "metadata": {},
   "source": [
    "__Сделаем это с помощью variance inflation factor (VIF) для каждого признака.__"
   ]
  },
  {
   "cell_type": "markdown",
   "metadata": {},
   "source": [
    "__Расчёт VIF для i-го признака.__\n",
    "\n",
    "__1) Обучаем модель, предсказывающую i-ый признак с помощью всех остальных признаков.__\n",
    "\n",
    "__2) Вычисляем $R^2$ для заданного признака и считаем $VIF_i=1/(1-R^2_i)$.__\n",
    "\n",
    "__3) Чем выше $VIF_i$, тем выше линейная зависимость признака от остальных признаков.__ "
   ]
  },
  {
   "cell_type": "code",
   "execution_count": 587,
   "metadata": {},
   "outputs": [],
   "source": [
    "model = LinearRegression()"
   ]
  },
  {
   "cell_type": "code",
   "execution_count": 588,
   "metadata": {},
   "outputs": [],
   "source": [
    "X_tr = df_train_sc.iloc[:120,:]"
   ]
  },
  {
   "cell_type": "code",
   "execution_count": 589,
   "metadata": {},
   "outputs": [],
   "source": [
    "vif_table = pd.DataFrame(columns=['feature', 'vif'], index = range(5))"
   ]
  },
  {
   "cell_type": "code",
   "execution_count": 590,
   "metadata": {},
   "outputs": [],
   "source": [
    "for num,feat in enumerate(top5_feat):\n",
    "    ff = top5_feat.copy()\n",
    "    ff.remove(feat)\n",
    "    model.fit(X_tr[ff], X_tr[feat])\n",
    "    vif_table.loc[num, 'feature'] = feat\n",
    "    vif_table.loc[num, 'vif'] = 1/(1-r2(X_tr[feat], model.predict(X_tr[ff])))"
   ]
  },
  {
   "cell_type": "code",
   "execution_count": 591,
   "metadata": {},
   "outputs": [
    {
     "data": {
      "text/html": [
       "<div>\n",
       "<style scoped>\n",
       "    .dataframe tbody tr th:only-of-type {\n",
       "        vertical-align: middle;\n",
       "    }\n",
       "\n",
       "    .dataframe tbody tr th {\n",
       "        vertical-align: top;\n",
       "    }\n",
       "\n",
       "    .dataframe thead th {\n",
       "        text-align: right;\n",
       "    }\n",
       "</style>\n",
       "<table border=\"1\" class=\"dataframe\">\n",
       "  <thead>\n",
       "    <tr style=\"text-align: right;\">\n",
       "      <th></th>\n",
       "      <th>feature</th>\n",
       "      <th>vif</th>\n",
       "    </tr>\n",
       "  </thead>\n",
       "  <tbody>\n",
       "    <tr>\n",
       "      <th>1</th>\n",
       "      <td>USDCNY_min_lag_6</td>\n",
       "      <td>1.52848</td>\n",
       "    </tr>\n",
       "    <tr>\n",
       "      <th>0</th>\n",
       "      <td>pet_feat</td>\n",
       "      <td>5.82678</td>\n",
       "    </tr>\n",
       "    <tr>\n",
       "      <th>2</th>\n",
       "      <td>paraxylene_CHN_USD</td>\n",
       "      <td>12.4882</td>\n",
       "    </tr>\n",
       "    <tr>\n",
       "      <th>4</th>\n",
       "      <td>paraxylene_RT_USD_lag_1</td>\n",
       "      <td>30.6809</td>\n",
       "    </tr>\n",
       "    <tr>\n",
       "      <th>3</th>\n",
       "      <td>paraxylene_CHN_USD_lag_1</td>\n",
       "      <td>44.7694</td>\n",
       "    </tr>\n",
       "  </tbody>\n",
       "</table>\n",
       "</div>"
      ],
      "text/plain": [
       "                    feature      vif\n",
       "1          USDCNY_min_lag_6  1.52848\n",
       "0                  pet_feat  5.82678\n",
       "2        paraxylene_CHN_USD  12.4882\n",
       "4   paraxylene_RT_USD_lag_1  30.6809\n",
       "3  paraxylene_CHN_USD_lag_1  44.7694"
      ]
     },
     "execution_count": 591,
     "metadata": {},
     "output_type": "execute_result"
    }
   ],
   "source": [
    "vif_table.sort_values(by=\"vif\")"
   ]
  },
  {
   "cell_type": "markdown",
   "metadata": {},
   "source": [
    "__Нарисуем карту корреляций.__"
   ]
  },
  {
   "cell_type": "code",
   "execution_count": 592,
   "metadata": {},
   "outputs": [
    {
     "data": {
      "text/plain": [
       "<matplotlib.axes._subplots.AxesSubplot at 0x1a33a15150>"
      ]
     },
     "execution_count": 592,
     "metadata": {},
     "output_type": "execute_result"
    },
    {
     "data": {
      "image/png": "[encoded data removed]",
      "text/plain": [
       "<Figure size 432x432 with 2 Axes>"
      ]
     },
     "metadata": {
      "needs_background": "light"
     },
     "output_type": "display_data"
    }
   ],
   "source": [
    "sns.heatmap(X_tr[top5_feat].corr())"
   ]
  },
  {
   "cell_type": "markdown",
   "metadata": {},
   "source": [
    "__Видно, что цены на параксилен очень сильно скоррелированы между собой и с pet_feat.__"
   ]
  },
  {
   "cell_type": "markdown",
   "metadata": {},
   "source": [
    "__Оставим две переменные: pet_feat, USDCNY_min_lag_6.__"
   ]
  },
  {
   "cell_type": "code",
   "execution_count": 593,
   "metadata": {},
   "outputs": [],
   "source": [
    "final_feat = [\"pet_feat\", \"USDCNY_min_lag_6\"]"
   ]
  },
  {
   "cell_type": "code",
   "execution_count": 594,
   "metadata": {},
   "outputs": [
    {
     "data": {
      "text/plain": [
       "<matplotlib.axes._subplots.AxesSubplot at 0x1a33586d90>"
      ]
     },
     "execution_count": 594,
     "metadata": {},
     "output_type": "execute_result"
    },
    {
     "data": {
      "image/png": "[encoded data removed]",
      "text/plain": [
       "<Figure size 432x432 with 2 Axes>"
      ]
     },
     "metadata": {
      "needs_background": "light"
     },
     "output_type": "display_data"
    }
   ],
   "source": [
    "sns.heatmap(X_tr[final_feat].corr())"
   ]
  },
  {
   "cell_type": "markdown",
   "metadata": {},
   "source": [
    "__Перейдем к выбору лучшей модели.__"
   ]
  },
  {
   "cell_type": "code",
   "execution_count": 595,
   "metadata": {},
   "outputs": [],
   "source": [
    "# линейная регрессия\n",
    "model1 = LinearRegression()\n",
    "\n",
    "# градиентный бустинг\n",
    "model2 = LGBMRegressor(max_depth=4, n_estimators=300, learning_rate=0.005, random_state=1)\n",
    "model3 = LGBMRegressor(max_depth=6, n_estimators=300, learning_rate=0.005, random_state=1)\n",
    "\n",
    "# случайный лес\n",
    "model4 = RandomForestRegressor(n_estimators=10, random_state=1)\n",
    "model5 = RandomForestRegressor(n_estimators=15, random_state=1)\n",
    "\n",
    "# обычный бэггинг линейныйх регрессий\n",
    "model6 = BaggingRegressor(base_estimator=LinearRegression(), n_estimators=10, random_state=1)\n",
    "model7 = BaggingRegressor(base_estimator=LinearRegression(), n_estimators=15, random_state=1)\n",
    "\n",
    "# обычный бэггинг деревьев\n",
    "model8 = BaggingRegressor(n_estimators=10, random_state=1)\n",
    "model9 = BaggingRegressor(n_estimators=15, random_state=1)"
   ]
  },
  {
   "cell_type": "code",
   "execution_count": 596,
   "metadata": {},
   "outputs": [],
   "source": [
    "models = [model1, model2, model3, model4, model5,\n",
    "         model6, model7, model8, model9]"
   ]
  },
  {
   "cell_type": "code",
   "execution_count": 597,
   "metadata": {},
   "outputs": [],
   "source": [
    "table_models = pd.DataFrame(columns = [\"validation MAPE\"], index = [\"model \"+str(i) for i in range(1,10)])"
   ]
  },
  {
   "cell_type": "code",
   "execution_count": 598,
   "metadata": {},
   "outputs": [],
   "source": [
    "X_train = df_train_sc[final_feat].iloc[:120,:]\n",
    "X_test = df_train_sc[final_feat].iloc[120:,:]\n",
    "\n",
    "y_train = y[:120]\n",
    "y_test = y[120:]"
   ]
  },
  {
   "cell_type": "code",
   "execution_count": 599,
   "metadata": {},
   "outputs": [],
   "source": [
    "for num, mod in enumerate(models):\n",
    "    mod.fit(X_train, y_train)\n",
    "    mape_valid = mape(y_test, mod.predict(X_test))\n",
    "    table_models.loc[\"model \"+str(num+1), \"validation MAPE\"] = mape_valid"
   ]
  },
  {
   "cell_type": "code",
   "execution_count": 600,
   "metadata": {},
   "outputs": [
    {
     "data": {
      "text/html": [
       "<div>\n",
       "<style scoped>\n",
       "    .dataframe tbody tr th:only-of-type {\n",
       "        vertical-align: middle;\n",
       "    }\n",
       "\n",
       "    .dataframe tbody tr th {\n",
       "        vertical-align: top;\n",
       "    }\n",
       "\n",
       "    .dataframe thead th {\n",
       "        text-align: right;\n",
       "    }\n",
       "</style>\n",
       "<table border=\"1\" class=\"dataframe\">\n",
       "  <thead>\n",
       "    <tr style=\"text-align: right;\">\n",
       "      <th></th>\n",
       "      <th>validation MAPE</th>\n",
       "    </tr>\n",
       "  </thead>\n",
       "  <tbody>\n",
       "    <tr>\n",
       "      <th>model 8</th>\n",
       "      <td>7.46535</td>\n",
       "    </tr>\n",
       "    <tr>\n",
       "      <th>model 4</th>\n",
       "      <td>7.68482</td>\n",
       "    </tr>\n",
       "    <tr>\n",
       "      <th>model 5</th>\n",
       "      <td>8.77614</td>\n",
       "    </tr>\n",
       "    <tr>\n",
       "      <th>model 9</th>\n",
       "      <td>8.94583</td>\n",
       "    </tr>\n",
       "    <tr>\n",
       "      <th>model 7</th>\n",
       "      <td>10.5374</td>\n",
       "    </tr>\n",
       "    <tr>\n",
       "      <th>model 6</th>\n",
       "      <td>10.5853</td>\n",
       "    </tr>\n",
       "    <tr>\n",
       "      <th>model 1</th>\n",
       "      <td>11.0147</td>\n",
       "    </tr>\n",
       "    <tr>\n",
       "      <th>model 2</th>\n",
       "      <td>19.9538</td>\n",
       "    </tr>\n",
       "    <tr>\n",
       "      <th>model 3</th>\n",
       "      <td>19.9538</td>\n",
       "    </tr>\n",
       "  </tbody>\n",
       "</table>\n",
       "</div>"
      ],
      "text/plain": [
       "        validation MAPE\n",
       "model 8         7.46535\n",
       "model 4         7.68482\n",
       "model 5         8.77614\n",
       "model 9         8.94583\n",
       "model 7         10.5374\n",
       "model 6         10.5853\n",
       "model 1         11.0147\n",
       "model 2         19.9538\n",
       "model 3         19.9538"
      ]
     },
     "execution_count": 600,
     "metadata": {},
     "output_type": "execute_result"
    }
   ],
   "source": [
    "table_models.sort_values(by=\"validation MAPE\")"
   ]
  },
  {
   "cell_type": "code",
   "execution_count": 601,
   "metadata": {},
   "outputs": [],
   "source": [
    "model8.fit(X_train, y_train)\n",
    "preds_best = model8.predict(X_test)"
   ]
  },
  {
   "cell_type": "code",
   "execution_count": 602,
   "metadata": {},
   "outputs": [],
   "source": [
    "y_test.index = range(y_test.shape[0]) #приводим индексы к одну и тому же значению"
   ]
  },
  {
   "cell_type": "markdown",
   "metadata": {},
   "source": [
    "__Визуализируем прогнозы и реальные значения на валидационной выборке.__"
   ]
  },
  {
   "cell_type": "code",
   "execution_count": 603,
   "metadata": {},
   "outputs": [
    {
     "data": {
      "text/plain": [
       "<matplotlib.legend.Legend at 0x1a33ab4710>"
      ]
     },
     "execution_count": 603,
     "metadata": {},
     "output_type": "execute_result"
    },
    {
     "data": {
      "image/png": "[encoded data removed]",
      "text/plain": [
       "<Figure size 1440x720 with 1 Axes>"
      ]
     },
     "metadata": {
      "needs_background": "light"
     },
     "output_type": "display_data"
    }
   ],
   "source": [
    "plt.figure(figsize=(20,10))\n",
    "sns.lineplot(x=range(1,12), y=y_test)\n",
    "sns.lineplot(x=range(1,12), y=preds_best)\n",
    "plt.title(\"Best model forecasts vs actual values (validation sample)\")\n",
    "plt.xlabel(\"Time\")\n",
    "plt.ylabel(\"Target\")\n",
    "plt.legend([\"Actual\", \"Forecast\"])"
   ]
  },
  {
   "cell_type": "code",
   "execution_count": 604,
   "metadata": {},
   "outputs": [
    {
     "data": {
      "text/plain": [
       "7.465352949605676"
      ]
     },
     "execution_count": 604,
     "metadata": {},
     "output_type": "execute_result"
    }
   ],
   "source": [
    "mape(y_test, preds_best)"
   ]
  },
  {
   "cell_type": "code",
   "execution_count": 605,
   "metadata": {},
   "outputs": [
    {
     "data": {
      "text/plain": [
       "(42, 2)"
      ]
     },
     "execution_count": 605,
     "metadata": {},
     "output_type": "execute_result"
    }
   ],
   "source": [
    "df_test_sc[final_feat].shape"
   ]
  },
  {
   "cell_type": "markdown",
   "metadata": {},
   "source": [
    "__Перейдем к предсказаниям на тестовой выборке.__"
   ]
  },
  {
   "cell_type": "markdown",
   "metadata": {},
   "source": [
    "__На тестовой выборке у нас нет информации о pet_feat (двухмесячный лаг целевой переменной), поэтому будем делать предсказания построчно и по мере увеличения кол-ва предсказаний заполнять столбец pet_feat в тестовой выборке.__"
   ]
  },
  {
   "cell_type": "code",
   "execution_count": 606,
   "metadata": {},
   "outputs": [
    {
     "data": {
      "text/plain": [
       "BaggingRegressor(base_estimator=None, bootstrap=True, bootstrap_features=False,\n",
       "                 max_features=1.0, max_samples=1.0, n_estimators=10,\n",
       "                 n_jobs=None, oob_score=False, random_state=1, verbose=0,\n",
       "                 warm_start=False)"
      ]
     },
     "execution_count": 606,
     "metadata": {},
     "output_type": "execute_result"
    }
   ],
   "source": [
    "model8.fit(df_train_sc[final_feat], y)"
   ]
  },
  {
   "cell_type": "code",
   "execution_count": 607,
   "metadata": {},
   "outputs": [],
   "source": [
    "max_val = df_train[\"pet_feat\"].max() #для шкалирования\n",
    "min_val = df_train[\"pet_feat\"].min()"
   ]
  },
  {
   "cell_type": "code",
   "execution_count": 608,
   "metadata": {},
   "outputs": [],
   "source": [
    "preds_test = []"
   ]
  },
  {
   "cell_type": "markdown",
   "metadata": {},
   "source": [
    "__Алгоритм:__\n",
    "    \n",
    "__1) Делаем предсказание для i-го месяца.__\n",
    "\n",
    "__2) Добавляем предсказание для i-го месяца в список предсказаний.__\n",
    "\n",
    "__3) Так как мы используем признак pet_feat (значение целевой переменной 2 месяца назад), то мы должны обновить значение pet_feat в тестовой выборке.__\n",
    "\n",
    "__Для месяца i+2 pet_feat равняется значению целевой переменной 2 месяца назад, а это означает, что pet_feat в строке i+2 равно предсказанию pet_feat для месяца i.__\n",
    "\n",
    "__Поэтому мы шкалируем предсказание для месяца i и добавляем его в i+2-ую строку столбца pet_feat тестовой выборки.__"
   ]
  },
  {
   "cell_type": "code",
   "execution_count": 609,
   "metadata": {},
   "outputs": [],
   "source": [
    "for i in range(df_test_sc.shape[0]):\n",
    "    pred_to_add = model8.predict(np.array(df_test_sc[final_feat].iloc[i, :]).reshape(1, -1))\n",
    "    preds_test.append(pred_to_add[0])\n",
    "    if i+2 <= df_test_sc.shape[0]-1:\n",
    "        df_test_sc.loc[i+2, \"pet_feat\"] = (pred_to_add - min_val) / (max_val - min_val)"
   ]
  },
  {
   "cell_type": "code",
   "execution_count": 610,
   "metadata": {},
   "outputs": [
    {
     "data": {
      "text/plain": [
       "[1456.1625,\n",
       " 990.5125,\n",
       " 1398.3375,\n",
       " 900.7041666666667,\n",
       " 1506.2625,\n",
       " 895.875,\n",
       " 1563.7625,\n",
       " 1024.8,\n",
       " 1397.775,\n",
       " 1096.1333333333334,\n",
       " 1563.95,\n",
       " 1125.1,\n",
       " 1454.1,\n",
       " 1171.675,\n",
       " 1450.8875,\n",
       " 1222.075,\n",
       " 1376.5875,\n",
       " 1306.725,\n",
       " 1379.125,\n",
       " 1215.7125,\n",
       " 1379.125,\n",
       " 1222.7,\n",
       " 1379.125,\n",
       " 1138.75,\n",
       " 1379.125,\n",
       " 1290.75,\n",
       " 1394.9375,\n",
       " 1268.9625,\n",
       " 1451.725,\n",
       " 1227.6375,\n",
       " 1375.975,\n",
       " 1196.25,\n",
       " 1521.6,\n",
       " 1307.175,\n",
       " 1486.9125,\n",
       " 1332.0,\n",
       " 1577.85,\n",
       " 1407.8875,\n",
       " 1569.0125,\n",
       " 1410.5625,\n",
       " 1457.6375,\n",
       " 1410.5625]"
      ]
     },
     "execution_count": 610,
     "metadata": {},
     "output_type": "execute_result"
    }
   ],
   "source": [
    "preds_test # список предсказаний для тестовой выборки"
   ]
  },
  {
   "cell_type": "code",
   "execution_count": 515,
   "metadata": {},
   "outputs": [],
   "source": [
    "pd.DataFrame(preds_test).to_csv(\"preds_sibur_01.csv\")"
   ]
  }
 ],
 "metadata": {
  "kernelspec": {
   "display_name": "Python 3",
   "language": "python",
   "name": "python3"
  },
  "language_info": {
   "codemirror_mode": {
    "name": "ipython",
    "version": 3
   },
   "file_extension": ".py",
   "mimetype": "text/x-python",
   "name": "python",
   "nbconvert_exporter": "python",
   "pygments_lexer": "ipython3",
   "version": "3.7.6"
  },
  "toc": {
   "base_numbering": 1,
   "nav_menu": {},
   "number_sections": true,
   "sideBar": true,
   "skip_h1_title": false,
   "title_cell": "Table of Contents",
   "title_sidebar": "Contents",
   "toc_cell": false,
   "toc_position": {},
   "toc_section_display": true,
   "toc_window_display": false
  }
 },
 "nbformat": 4,
 "nbformat_minor": 2
}
